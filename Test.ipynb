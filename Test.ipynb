{
 "cells": [
  {
   "cell_type": "code",
   "execution_count": 4,
   "metadata": {},
   "outputs": [],
   "source": [
    "from libs import *"
   ]
  },
  {
   "cell_type": "markdown",
   "metadata": {},
   "source": [
    "# Gemini API Usage"
   ]
  },
  {
   "cell_type": "code",
   "execution_count": 5,
   "metadata": {},
   "outputs": [],
   "source": [
    "from dotenv import load_dotenv\n",
    "load_dotenv()\n",
    "\n",
    "if os.getenv('GOOGLE_API_KEY') is None:\n",
    "    raise ValueError(\"GOOGLE_API_KEY environment variable not set\")\n",
    "else:\n",
    "    GOOGLE_API_KEY = os.getenv('GOOGLE_API_KEY')\n",
    "\n",
    "model = genai.GenerativeModel('gemini-1.5-flash')\n",
    "\n",
    "def get_completion(\n",
    "    prompt: str,\n",
    "    max_tokens: Optional[int] = 2000,\n",
    "    temperature: Optional[float] = 0.9,\n",
    "    stop_sequences: Optional[List[str]] = None,\n",
    "):\n",
    "    \"\"\"Get a text completion from Gemini API.\"\"\"\n",
    "    try:\n",
    "        generation_config = genai.GenerationConfig(\n",
    "            max_output_tokens=max_tokens,\n",
    "            temperature=temperature,\n",
    "            stop_sequences=stop_sequences,\n",
    "        )\n",
    "        response = model.generate_content(prompt, generation_config=generation_config)\n",
    "        return response.text\n",
    "    except Exception as e:\n",
    "        logger.error(f\"Error in get_completion: {e}\")\n",
    "        raise ValueError(f\"Error in get_completion: {e}\")\n"
   ]
  },
  {
   "cell_type": "code",
   "execution_count": 6,
   "metadata": {},
   "outputs": [],
   "source": [
    "\n",
    "INFO_PROMPT = '''\n",
    "You are an expert product analyzer. Your task is to analyze the image of a product and provide its description in JSON format with the following attributes:\n",
    "1. **name**: The type of product, such as \"rice\" or \"yoghurt\".\n",
    "2. **brand**: The brand of the product. If the brand is not visible or mentioned, set this value as `None`.\n",
    "3. **type**: Categorize the product into one of these four types:\n",
    "   - \"Carbohydrates\"\n",
    "   - \"Fruits and Vegetables\"\n",
    "   - \"Protein\"\n",
    "   - \"Fats\"\n",
    "4. **expiry_date**: The expiry date of the product in the format \"YYYY-MM-DD\". If the expiry date is not visible or mentioned, set this value as `None`.\n",
    "\n",
    "Return ouput in json format:\n",
    "{name: name, brand: brand, type: type, expiry_date: expiry_date}\n",
    "\n",
    "'''\n",
    "\n",
    "\n",
    "def get_information_products(img, prompt = INFO_PROMPT) -> Dict[str, Any]:\n",
    "    \"\"\"Get information products from Gemini API.\"\"\"\n",
    "    try:\n",
    "        response = model.generate_content([prompt, img])\n",
    "        text = response.text\n",
    "        start_index = text.find('{')\n",
    "        end_index = text.find('}') + 1\n",
    "        json_str = text[start_index:end_index]\n",
    "        try:\n",
    "            product_info = json.loads(json_str)\n",
    "            print(product_info)\n",
    "        except json.JSONDecodeError as e:\n",
    "            print(f\"Error decoding JSON: {e}\")\n",
    "        \n",
    "        return product_info\n",
    "    except Exception as e:\n",
    "        logger.error(f\"Error in get_information_products: {e}\")\n",
    "        raise ValueError(f\"Error in get_information_products: {e}\")\n",
    "    "
   ]
  },
  {
   "cell_type": "markdown",
   "metadata": {},
   "source": [
    "# Food Management"
   ]
  },
  {
   "cell_type": "code",
   "execution_count": 88,
   "metadata": {},
   "outputs": [],
   "source": [
    "from datetime import datetime\n",
    "\n",
    "class Food_Management:\n",
    "    def __init__(self, info: dict[str, Any]):\n",
    "        self._name = info['name']\n",
    "        self._brand = info['brand']\n",
    "        self._type = info['type']\n",
    "        self._expiry_date = info['expiry_date']\n",
    "        self._used: bool = False\n",
    "        self._out_of_stock: bool = False\n",
    "        self._images = None\n",
    "        self._info = None\n",
    "        self._added_date = datetime.now().date()\n",
    "\n",
    "    # Property for name\n",
    "    @property\n",
    "    def name(self):\n",
    "        return self._name\n",
    "\n",
    "    @name.setter\n",
    "    def name(self, value):\n",
    "        self._name = value\n",
    "\n",
    "    # Property for brand\n",
    "    @property\n",
    "    def brand(self):\n",
    "        return self._brand\n",
    "\n",
    "    @brand.setter\n",
    "    def brand(self, value):\n",
    "        self._brand = value\n",
    "\n",
    "    # Property for type\n",
    "    @property\n",
    "    def type(self):\n",
    "        return self._type\n",
    "\n",
    "    @type.setter\n",
    "    def type(self, value):\n",
    "        self._type = value\n",
    "\n",
    "    # Property for expiry_date\n",
    "    @property\n",
    "    def expiry_date(self):\n",
    "        return self._expiry_date\n",
    "\n",
    "    @expiry_date.setter\n",
    "    def expiry_date(self, value):\n",
    "        self._expiry_date = value\n",
    "\n",
    "    # Method to get product information\n",
    "    def get_info(self):\n",
    "        return {\n",
    "            'name': self._name,\n",
    "            'brand': self._brand,\n",
    "            'type': self._type,\n",
    "            'expiry_date': self._expiry_date,\n",
    "            'info': self._info\n",
    "        }\n",
    "\n",
    "    # Property to calculate days until expiry\n",
    "    @property\n",
    "    def days_until_expiry(self):\n",
    "        if self._expiry_date:\n",
    "            expiry = datetime.strptime(self._expiry_date, '%Y-%m-%d').date()\n",
    "            today = datetime.today().date()\n",
    "            delta = (expiry - today).days\n",
    "            return delta\n",
    "        return None\n",
    "\n",
    "    # Prperty to determine expiry status\n",
    "    @property\n",
    "    def expiry_status(self):\n",
    "        days_left = self.days_until_expiry\n",
    "        if days_left is not None:\n",
    "            if days_left < 0:\n",
    "                return 'Red'  # expired\n",
    "            elif days_left <= 3:\n",
    "                return 'Yellow'  # expiring soon\n",
    "            else:\n",
    "                return 'Green'  # long shelf life\n",
    "        return 'Unknown expiry status'\n",
    "    \n",
    "    @property\n",
    "    def used(self):\n",
    "        return self._used\n",
    "    \n",
    "    @used.setter\n",
    "    def used(self, value):\n",
    "        self._used = value\n",
    "\n",
    "    @property\n",
    "    def out_of_stock(self):\n",
    "        return self._out_of_stock\n",
    "    \n",
    "    @out_of_stock.setter\n",
    "    def out_of_stock(self, value):\n",
    "        self._out_of_stock = value"
   ]
  },
  {
   "cell_type": "code",
   "execution_count": 89,
   "metadata": {},
   "outputs": [
    {
     "name": "stdout",
     "output_type": "stream",
     "text": [
      "{'name': 'yogurt', 'brand': 'Marigold', 'type': 'Protein', 'expiry_date': '2025-01-13'}\n",
      "{'name': 'yogurt', 'brand': 'Marigold', 'type': 'Protein', 'expiry_date': '2025-01-13', 'info': None}\n",
      "23\n",
      "Green\n",
      "{'name': 'yogurt', 'brand': 'Marigold', 'type': 'Protein', 'expiry_date': '2025-01-13'}\n"
     ]
    }
   ],
   "source": [
    "img = PIL.Image.open('Yoghurt.jpg')\n",
    "info = get_information_products(img)\n",
    "A_1 = Food_Management(info)\n",
    "print(A_1.get_info())\n",
    "print(A_1.days_until_expiry)\n",
    "print(A_1.expiry_status)\n",
    "print(info)"
   ]
  },
  {
   "cell_type": "markdown",
   "metadata": {},
   "source": [
    "# Iventory Management"
   ]
  },
  {
   "cell_type": "code",
   "execution_count": 90,
   "metadata": {},
   "outputs": [],
   "source": [
    "class Inventory_Management:\n",
    "    def __init__(self):\n",
    "        self.food_items: List[Food_Management] = []\n",
    "\n",
    "    def add_food_item(self, food: Food_Management):\n",
    "        \"\"\"Add a Food_Management object to the inventory.\"\"\"\n",
    "        self.food_items.append(food)\n",
    "\n",
    "    def sort_by_days_until_expiry(self):\n",
    "        \"\"\"Sort inventory by days left until expiry, ascending order.\"\"\"\n",
    "        self.food_items.sort(key=lambda food: (food.days_until_expiry or float('inf')))\n",
    "\n",
    "    def sort_by_added_date(self):\n",
    "        \"\"\"Sort inventory by the date the food was added, ascending order.\"\"\"\n",
    "        self.food_items.sort(key=lambda food: food._added_date)\n",
    "\n",
    "    def sort_by_category_and_expiry(self):\n",
    "        \"\"\"\n",
    "        Groups food items by category and sorts each group by expiry date.\n",
    "        \n",
    "        Returns:\n",
    "            Dict[str, List[Food_Management]]: Dictionary with categories as keys \n",
    "            and sorted food items as values.\n",
    "        \"\"\"\n",
    "        categories = [\"Carbohydrates\", \"Fruits and Vegetables\", \"Protein\", \"Fats\"]\n",
    "        sorted_items = {}\n",
    "        \n",
    "        for category in categories:\n",
    "            sorted_items[category] = sorted(\n",
    "                [item for item in self.food_items if item._type == category],\n",
    "                key=lambda x: datetime.strptime(x._expiry_date, \"%Y-%m-%d\")\n",
    "            )\n",
    "        return sorted_items\n",
    "\n",
    "    def display_category(self, category: str):\n",
    "        \"\"\"\n",
    "        Displays all food items in the specified category in a readable format.\n",
    "        \"\"\"\n",
    "        items_in_category = self.sort_by_category_and_expiry().get(category)\n",
    "        if not items_in_category:\n",
    "            print(f\"No items found in the category: {category}\")\n",
    "        else:\n",
    "            print(f\"Food items in the category '{category}':\")\n",
    "            return [item.get_info() for item in items_in_category]\n",
    "\n",
    "    def display_inventory(self):\n",
    "        \"\"\"Display the inventory in a readable format.\"\"\"\n",
    "        return [item.get_info() for item in self.food_items]\n"
   ]
  },
  {
   "cell_type": "markdown",
   "metadata": {},
   "source": [
    "## Adding data"
   ]
  },
  {
   "cell_type": "code",
   "execution_count": 91,
   "metadata": {},
   "outputs": [],
   "source": [
    "# Example usage\n",
    "product1 = Food_Management({\n",
    "    'name': 'Yoghurt',\n",
    "    'brand': 'Marigold',\n",
    "    'type': 'Protein',\n",
    "    'expiry_date': '2025-01-13'\n",
    "})\n",
    "\n",
    "product2 = Food_Management({\n",
    "    'name': 'Apple',\n",
    "    'brand': None,\n",
    "    'type': 'Fruits and Vegetables',\n",
    "    'expiry_date': '2024-12-25'\n",
    "})\n",
    "\n",
    "product3 = Food_Management({\n",
    "    'name': 'Rice',\n",
    "    'brand': 'Golden Grain',\n",
    "    'type': 'Carbohydrates',\n",
    "    'expiry_date': '2026-05-01'\n",
    "})\n",
    "\n",
    "product4 = Food_Management({\n",
    "    'name': 'Banana',\n",
    "    'brand': None,\n",
    "    'type': 'Fruits and Vegetables',\n",
    "    'expiry_date': '2024-12-23'\n",
    "})\n",
    "\n",
    "product5 = Food_Management({\n",
    "    'name': 'Chicken Breast',\n",
    "    'brand': 'Farm Fresh',\n",
    "    'type': 'Protein',\n",
    "    'expiry_date': '2024-12-27'\n",
    "})\n",
    "\n",
    "product6 = Food_Management({\n",
    "    'name': 'Olive Oil',\n",
    "    'brand': 'Extra Virgin',\n",
    "    'type': 'Fats',\n",
    "    'expiry_date': '2025-07-15'\n",
    "})\n",
    "\n",
    "product7 = Food_Management({\n",
    "    'name': 'Bread',\n",
    "    'brand': 'Baker’s Delight',\n",
    "    'type': 'Carbohydrates',\n",
    "    'expiry_date': '2024-12-24'\n",
    "})\n",
    "\n",
    "product8 = Food_Management({\n",
    "    'name': 'Milk',\n",
    "    'brand': 'Dairy Pure',\n",
    "    'type': 'Protein',\n",
    "    'expiry_date': '2024-12-22'\n",
    "})\n",
    "\n",
    "product9 = Food_Management({\n",
    "    'name': 'Carrot',\n",
    "    'brand': None,\n",
    "    'type': 'Fruits and Vegetables',\n",
    "    'expiry_date': '2024-12-30'\n",
    "})\n",
    "\n",
    "product10 = Food_Management({\n",
    "    'name': 'Eggs',\n",
    "    'brand': 'Golden Eggs',\n",
    "    'type': 'Protein',\n",
    "    'expiry_date': '2024-12-29'\n",
    "})\n",
    "\n",
    "product11 = Food_Management({\n",
    "    'name': 'Cheese',\n",
    "    'brand': 'Cheddar Bliss',\n",
    "    'type': 'Protein',\n",
    "    'expiry_date': '2025-02-01'\n",
    "})\n",
    "\n",
    "product12 = Food_Management({\n",
    "    'name': 'Potato',\n",
    "    'brand': None,\n",
    "    'type': 'Fruits and Vegetables',\n",
    "    'expiry_date': '2025-01-10'\n",
    "})\n",
    "\n",
    "product13 = Food_Management({\n",
    "    'name': 'Butter',\n",
    "    'brand': 'Creamy Delight',\n",
    "    'type': 'Fats',\n",
    "    'expiry_date': '2025-04-20'\n",
    "})\n"
   ]
  },
  {
   "cell_type": "code",
   "execution_count": 93,
   "metadata": {},
   "outputs": [],
   "source": [
    "inventory = Inventory_Management()\n",
    "inventory.add_food_item(product1)\n",
    "inventory.add_food_item(product2)\n",
    "inventory.add_food_item(product3)\n",
    "inventory.add_food_item(product4)\n",
    "inventory.add_food_item(product5)\n",
    "inventory.add_food_item(product6)\n",
    "inventory.add_food_item(product7)\n",
    "inventory.add_food_item(product8)\n",
    "inventory.add_food_item(product9)\n",
    "inventory.add_food_item(product10)\n",
    "inventory.add_food_item(product11)\n",
    "inventory.add_food_item(product12)\n",
    "inventory.add_food_item(product13)"
   ]
  },
  {
   "cell_type": "markdown",
   "metadata": {},
   "source": [
    "## Testing Func"
   ]
  },
  {
   "cell_type": "code",
   "execution_count": 94,
   "metadata": {},
   "outputs": [
    {
     "name": "stdout",
     "output_type": "stream",
     "text": [
      "\n",
      "Sorted by Days Until Expiry:\n",
      "{'name': 'Milk', 'brand': 'Dairy Pure', 'type': 'Protein', 'expiry_date': '2024-12-22', 'info': None}\n",
      "{'name': 'Banana', 'brand': None, 'type': 'Fruits and Vegetables', 'expiry_date': '2024-12-23', 'info': None}\n",
      "{'name': 'Bread', 'brand': 'Baker’s Delight', 'type': 'Carbohydrates', 'expiry_date': '2024-12-24', 'info': None}\n",
      "{'name': 'Apple', 'brand': None, 'type': 'Fruits and Vegetables', 'expiry_date': '2024-12-25', 'info': None}\n",
      "{'name': 'Chicken Breast', 'brand': 'Farm Fresh', 'type': 'Protein', 'expiry_date': '2024-12-27', 'info': None}\n",
      "{'name': 'Eggs', 'brand': 'Golden Eggs', 'type': 'Protein', 'expiry_date': '2024-12-29', 'info': None}\n",
      "{'name': 'Carrot', 'brand': None, 'type': 'Fruits and Vegetables', 'expiry_date': '2024-12-30', 'info': None}\n",
      "{'name': 'Potato', 'brand': None, 'type': 'Fruits and Vegetables', 'expiry_date': '2025-01-10', 'info': None}\n",
      "{'name': 'Yoghurt', 'brand': 'Marigold', 'type': 'Protein', 'expiry_date': '2025-01-13', 'info': None}\n",
      "{'name': 'Cheese', 'brand': 'Cheddar Bliss', 'type': 'Protein', 'expiry_date': '2025-02-01', 'info': None}\n",
      "{'name': 'Butter', 'brand': 'Creamy Delight', 'type': 'Fats', 'expiry_date': '2025-04-20', 'info': None}\n",
      "{'name': 'Olive Oil', 'brand': 'Extra Virgin', 'type': 'Fats', 'expiry_date': '2025-07-15', 'info': None}\n",
      "{'name': 'Rice', 'brand': 'Golden Grain', 'type': 'Carbohydrates', 'expiry_date': '2026-05-01', 'info': None}\n"
     ]
    }
   ],
   "source": [
    "print(\"\\nSorted by Days Until Expiry:\")\n",
    "inventory.sort_by_days_until_expiry()\n",
    "for item in inventory.food_items:\n",
    "    print(item.get_info())"
   ]
  },
  {
   "cell_type": "code",
   "execution_count": 95,
   "metadata": {},
   "outputs": [],
   "source": [
    "Protein = inventory.sort_by_category_and_expiry().get(\"Protein\")\n",
    "Carbohydrates = inventory.sort_by_category_and_expiry().get(\"Carbohydrates\")\n",
    "Fats = inventory.sort_by_category_and_expiry().get(\"Fats\")\n",
    "Fruits_and_Vegetables = inventory.sort_by_category_and_expiry().get(\"Fruits and Vegetables\")"
   ]
  },
  {
   "cell_type": "code",
   "execution_count": 96,
   "metadata": {},
   "outputs": [
    {
     "name": "stdout",
     "output_type": "stream",
     "text": [
      "{'name': 'Milk', 'brand': 'Dairy Pure', 'type': 'Protein', 'expiry_date': '2024-12-22', 'info': None}\n",
      "{'name': 'Chicken Breast', 'brand': 'Farm Fresh', 'type': 'Protein', 'expiry_date': '2024-12-27', 'info': None}\n",
      "{'name': 'Eggs', 'brand': 'Golden Eggs', 'type': 'Protein', 'expiry_date': '2024-12-29', 'info': None}\n",
      "{'name': 'Yoghurt', 'brand': 'Marigold', 'type': 'Protein', 'expiry_date': '2025-01-13', 'info': None}\n",
      "{'name': 'Cheese', 'brand': 'Cheddar Bliss', 'type': 'Protein', 'expiry_date': '2025-02-01', 'info': None}\n"
     ]
    }
   ],
   "source": [
    "for item in Protein:\n",
    "    print(item.get_info())"
   ]
  },
  {
   "cell_type": "code",
   "execution_count": 97,
   "metadata": {},
   "outputs": [
    {
     "name": "stdout",
     "output_type": "stream",
     "text": [
      "{'name': 'Bread', 'brand': 'Baker’s Delight', 'type': 'Carbohydrates', 'expiry_date': '2024-12-24', 'info': None}\n",
      "{'name': 'Rice', 'brand': 'Golden Grain', 'type': 'Carbohydrates', 'expiry_date': '2026-05-01', 'info': None}\n"
     ]
    }
   ],
   "source": [
    "for item in Carbohydrates:\n",
    "    print(item.get_info())"
   ]
  },
  {
   "cell_type": "code",
   "execution_count": 101,
   "metadata": {},
   "outputs": [
    {
     "name": "stdout",
     "output_type": "stream",
     "text": [
      "{'name': 'Butter', 'brand': 'Creamy Delight', 'type': 'Fats', 'expiry_date': '2025-04-20', 'info': None}\n",
      "{'name': 'Olive Oil', 'brand': 'Extra Virgin', 'type': 'Fats', 'expiry_date': '2025-07-15', 'info': None}\n"
     ]
    }
   ],
   "source": [
    "for item in Fats:\n",
    "    print(item.get_info())"
   ]
  },
  {
   "cell_type": "code",
   "execution_count": 100,
   "metadata": {},
   "outputs": [
    {
     "name": "stdout",
     "output_type": "stream",
     "text": [
      "{'name': 'Banana', 'brand': None, 'type': 'Fruits and Vegetables', 'expiry_date': '2024-12-23', 'info': None}\n",
      "{'name': 'Apple', 'brand': None, 'type': 'Fruits and Vegetables', 'expiry_date': '2024-12-25', 'info': None}\n",
      "{'name': 'Carrot', 'brand': None, 'type': 'Fruits and Vegetables', 'expiry_date': '2024-12-30', 'info': None}\n",
      "{'name': 'Potato', 'brand': None, 'type': 'Fruits and Vegetables', 'expiry_date': '2025-01-10', 'info': None}\n"
     ]
    }
   ],
   "source": [
    "for item in Fruits_and_Vegetables:\n",
    "    print(item.get_info())"
   ]
  },
  {
   "cell_type": "markdown",
   "metadata": {},
   "source": [
    "# Prompting for Ingredients base on your database"
   ]
  },
  {
   "cell_type": "code",
   "execution_count": 191,
   "metadata": {},
   "outputs": [],
   "source": [
    "import time\n",
    "class MealPlanner:\n",
    "    def __init__(self, inventory: Inventory_Management):\n",
    "        self.inventory = inventory\n",
    "        self.selected_ingredients = {}  # Store selected Food_Management objects\n",
    "\n",
    "    def pick_ingredients_by_category(self, category: str):\n",
    "        \n",
    "        sorted_items = self.inventory.sort_by_category_and_expiry()\n",
    "        picked_ingredients = []\n",
    "\n",
    "        if category not in sorted_items:\n",
    "            print(f\"Invalid category: {category}. Please choose a valid category.\")\n",
    "            return picked_ingredients\n",
    "\n",
    "        items = sorted_items[category]\n",
    "        print(f\"\\nCategory: {category}\")\n",
    "        if not items:\n",
    "            print(\"No ingredients available in this category.\")\n",
    "            return picked_ingredients\n",
    "\n",
    "        for i, item in enumerate(items, start=1):\n",
    "            print(f\"{i}. {item.get_info()}\")\n",
    "        time.sleep(1)\n",
    "\n",
    "        while True:\n",
    "            try:\n",
    "                user_input = input(f\"Enter the numbers of the ingredients you'd like to use from {category} (comma-separated): \").strip()\n",
    "                if not user_input:\n",
    "                    print(\"Input cannot be empty. Please enter valid indices.\")\n",
    "                    continue\n",
    "\n",
    "                indices = [int(idx.strip()) for idx in user_input.split(\",\")]\n",
    "                \n",
    "                if any(idx < 1 or idx > len(items) for idx in indices):\n",
    "                    print(f\"Some indices are out of range. Please enter indices between 1 and {len(items)}.\")\n",
    "                    continue\n",
    "\n",
    "                # Add selected Food_Management objects to the list\n",
    "                picked_ingredients = [items[idx - 1] for idx in indices]\n",
    "                break  # Exit loop if everything is valid\n",
    "\n",
    "            except ValueError:\n",
    "                print(\"Invalid input. Please enter numbers only, separated by commas.\")\n",
    "\n",
    "\n",
    "        # Add the selected ingredients to the selected_ingredients list\n",
    "        self.selected_ingredients[category] = picked_ingredients\n",
    "        \n",
    "        print(f\"\\nSelected ingredients from the category '{category}':\")\n",
    "        picked_ingredients = [item.get_info() for item in picked_ingredients]\n",
    "        print(picked_ingredients)\n",
    "        \n",
    "    \n",
    "    def __str__(self):\n",
    "        if not self.selected_ingredients:\n",
    "            return \"No ingredients selected yet.\"\n",
    "\n",
    "        result = \"Ingredients Provided:\\n\"\n",
    "        for category in self.selected_ingredients:\n",
    "            result += f\"- {category}: \"\n",
    "            ingredients = self.selected_ingredients[category]\n",
    "            result += \"\\n\"\n",
    "            if ingredients:\n",
    "                result += \", \".join(\n",
    "                    f\"{ingredient._name} ({ingredient._brand if ingredient._brand else 'No Brand'}, expiry: {ingredient._expiry_date})\"\n",
    "                    for ingredient in ingredients\n",
    "                )\n",
    "            else:\n",
    "                result += \"No ingredients selected\"\n",
    "            result += \"\\n\"\n",
    "        \n",
    "        return result\n"
   ]
  },
  {
   "cell_type": "code",
   "execution_count": 192,
   "metadata": {},
   "outputs": [
    {
     "name": "stdout",
     "output_type": "stream",
     "text": [
      "\n",
      "Category: Carbohydrates\n",
      "1. {'name': 'Bread', 'brand': 'Baker’s Delight', 'type': 'Carbohydrates', 'expiry_date': '2024-12-24', 'info': None}\n",
      "2. {'name': 'Rice', 'brand': 'Golden Grain', 'type': 'Carbohydrates', 'expiry_date': '2026-05-01', 'info': None}\n",
      "Some indices are out of range. Please enter indices between 1 and 2.\n",
      "\n",
      "Selected ingredients from the category 'Carbohydrates':\n",
      "[{'name': 'Bread', 'brand': 'Baker’s Delight', 'type': 'Carbohydrates', 'expiry_date': '2024-12-24', 'info': None}]\n",
      "\n",
      "Category: Protein\n",
      "1. {'name': 'Milk', 'brand': 'Dairy Pure', 'type': 'Protein', 'expiry_date': '2024-12-22', 'info': None}\n",
      "2. {'name': 'Chicken Breast', 'brand': 'Farm Fresh', 'type': 'Protein', 'expiry_date': '2024-12-27', 'info': None}\n",
      "3. {'name': 'Eggs', 'brand': 'Golden Eggs', 'type': 'Protein', 'expiry_date': '2024-12-29', 'info': None}\n",
      "4. {'name': 'Yoghurt', 'brand': 'Marigold', 'type': 'Protein', 'expiry_date': '2025-01-13', 'info': None}\n",
      "5. {'name': 'Cheese', 'brand': 'Cheddar Bliss', 'type': 'Protein', 'expiry_date': '2025-02-01', 'info': None}\n",
      "\n",
      "Selected ingredients from the category 'Protein':\n",
      "[{'name': 'Eggs', 'brand': 'Golden Eggs', 'type': 'Protein', 'expiry_date': '2024-12-29', 'info': None}, {'name': 'Yoghurt', 'brand': 'Marigold', 'type': 'Protein', 'expiry_date': '2025-01-13', 'info': None}]\n",
      "\n",
      "Category: Fats\n",
      "1. {'name': 'Butter', 'brand': 'Creamy Delight', 'type': 'Fats', 'expiry_date': '2025-04-20', 'info': None}\n",
      "2. {'name': 'Olive Oil', 'brand': 'Extra Virgin', 'type': 'Fats', 'expiry_date': '2025-07-15', 'info': None}\n",
      "\n",
      "Selected ingredients from the category 'Fats':\n",
      "[{'name': 'Olive Oil', 'brand': 'Extra Virgin', 'type': 'Fats', 'expiry_date': '2025-07-15', 'info': None}]\n",
      "\n",
      "Category: Fruits and Vegetables\n",
      "1. {'name': 'Banana', 'brand': None, 'type': 'Fruits and Vegetables', 'expiry_date': '2024-12-23', 'info': None}\n",
      "2. {'name': 'Apple', 'brand': None, 'type': 'Fruits and Vegetables', 'expiry_date': '2024-12-25', 'info': None}\n",
      "3. {'name': 'Carrot', 'brand': None, 'type': 'Fruits and Vegetables', 'expiry_date': '2024-12-30', 'info': None}\n",
      "4. {'name': 'Potato', 'brand': None, 'type': 'Fruits and Vegetables', 'expiry_date': '2025-01-10', 'info': None}\n",
      "Some indices are out of range. Please enter indices between 1 and 4.\n",
      "\n",
      "Selected ingredients from the category 'Fruits and Vegetables':\n",
      "[{'name': 'Carrot', 'brand': None, 'type': 'Fruits and Vegetables', 'expiry_date': '2024-12-30', 'info': None}, {'name': 'Apple', 'brand': None, 'type': 'Fruits and Vegetables', 'expiry_date': '2024-12-25', 'info': None}]\n"
     ]
    }
   ],
   "source": [
    "# Meal Planner\n",
    "meal_planner = MealPlanner(inventory)\n",
    "\n",
    "meal_planner.pick_ingredients_by_category(\"Carbohydrates\")\n",
    "meal_planner.pick_ingredients_by_category(\"Protein\")\n",
    "meal_planner.pick_ingredients_by_category(\"Fats\")\n",
    "meal_planner.pick_ingredients_by_category(\"Fruits and Vegetables\")"
   ]
  },
  {
   "cell_type": "code",
   "execution_count": 193,
   "metadata": {},
   "outputs": [
    {
     "name": "stdout",
     "output_type": "stream",
     "text": [
      "Ingredients Provided:\n",
      "- Carbohydrates: \n",
      "Bread (Baker’s Delight, expiry: 2024-12-24)\n",
      "- Protein: \n",
      "Eggs (Golden Eggs, expiry: 2024-12-29), Yoghurt (Marigold, expiry: 2025-01-13)\n",
      "- Fats: \n",
      "Olive Oil (Extra Virgin, expiry: 2025-07-15)\n",
      "- Fruits and Vegetables: \n",
      "Carrot (No Brand, expiry: 2024-12-30), Apple (No Brand, expiry: 2024-12-25)\n",
      "\n"
     ]
    }
   ],
   "source": [
    "print(meal_planner)"
   ]
  },
  {
   "cell_type": "markdown",
   "metadata": {},
   "source": [
    "# Chat Bot for Planning Meal today"
   ]
  },
  {
   "cell_type": "code",
   "execution_count": 199,
   "metadata": {},
   "outputs": [],
   "source": [
    "system_prompt = f\"\"\"\n",
    "You are a professional chef specializing in creating simple, nutritious meals. Use the following ingredients from the customer's fridge to assist them:\n",
    "\n",
    "{str(meal_planner)}\n",
    "\n",
    "Your tasks:\n",
    "1. Suggest recipes using only these ingredients, be careful with the expiry dates of these ingredients.\n",
    "2. Provide clear, step-by-step cooking instructions when asked.\n",
    "3. Adapt recipes to user preferences or constraints during the chat.\n",
    "\n",
    "Do not introduce ingredients outside this list. Keep track of the conversation history to continue assisting seamlessly.\n",
    "If the customer do not have enough ingredients, suggest them to buy the missing ingredients.\n",
    "\"\"\"\n"
   ]
  },
  {
   "cell_type": "code",
   "execution_count": 209,
   "metadata": {},
   "outputs": [],
   "source": [
    "class MasterChef:\n",
    "    def __init__(self, meal_planner: MealPlanner):\n",
    "        self.meal_planner = meal_planner\n",
    "        \n",
    "        system_prompt = f\"\"\"\n",
    "            You are a professional chef specializing in creating simple, nutritious meals. Use the following ingredients from the customer's fridge to assist them:\n",
    "\n",
    "            {str(meal_planner)}\n",
    "\n",
    "            Your tasks:\n",
    "            1. Suggest recipes using only these ingredients, be careful with the expiry dates of these ingredients.\n",
    "            2. Provide clear, step-by-step cooking instructions when asked.\n",
    "            3. Adapt recipes to user preferences or constraints during the chat.\n",
    "            4. Be user-friendly and engaging to keep the customer interested with your suggestions.\n",
    "\n",
    "            Do not introduce ingredients outside this list. Keep track of the conversation history to continue assisting seamlessly.\n",
    "            If the customer do not have enough ingredients, suggest them to buy the missing ingredients.\n",
    "            \"\"\"\n",
    "\n",
    "        self.model = genai.GenerativeModel(\n",
    "            \"models/gemini-1.5-flash\",\n",
    "            system_instruction=system_prompt\n",
    "        )\n",
    "        self.chat = self.model.start_chat(history=[])"
   ]
  },
  {
   "cell_type": "code",
   "execution_count": 210,
   "metadata": {},
   "outputs": [],
   "source": [
    "# Start the chatbot interaction\n",
    "def chat_with_chef(master_chef):\n",
    "    print(\"Welcome to MasterChef Chatbot! Let's discuss your meal plan.\")\n",
    "    print(\"Type 'exit' to end the conversation.\\n\")\n",
    "\n",
    "    while True:\n",
    "        # Get user input\n",
    "        user_input = input(\"You: \").strip()\n",
    "        \n",
    "        # Exit condition\n",
    "        if user_input.lower() == 'exit':\n",
    "            print(\"Goodbye! Have a great day cooking!\")\n",
    "            break\n",
    "        \n",
    "        # Send user input to the chat model\n",
    "        response = master_chef.chat.send_message(user_input)\n",
    "        \n",
    "        # Display chatbot response\n",
    "        print(f\"Chef: {response.text}\")\n"
   ]
  },
  {
   "cell_type": "code",
   "execution_count": 211,
   "metadata": {},
   "outputs": [],
   "source": [
    "# master_chef = MasterChef(meal_planner)\n",
    "\n",
    "# # Start chatting\n",
    "# chat_with_chef(master_chef)"
   ]
  }
 ],
 "metadata": {
  "kernelspec": {
   "display_name": "temasek_genAI",
   "language": "python",
   "name": "python3"
  },
  "language_info": {
   "codemirror_mode": {
    "name": "ipython",
    "version": 3
   },
   "file_extension": ".py",
   "mimetype": "text/x-python",
   "name": "python",
   "nbconvert_exporter": "python",
   "pygments_lexer": "ipython3",
   "version": "3.9.18"
  }
 },
 "nbformat": 4,
 "nbformat_minor": 2
}
